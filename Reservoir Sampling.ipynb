{
 "cells": [
  {
   "cell_type": "code",
   "execution_count": 2,
   "metadata": {
    "collapsed": false
   },
   "outputs": [],
   "source": [
    "import random\n",
    "\n",
    "def reservoirSampling(stream):\n",
    "    memory = None # initialize the memory to be empty\n",
    "    for i in range(len(stream)): # for each number in the incoming data stream\n",
    "        p = 1.0 / (i + 1) # probability that we replace the contents of the memory bank with the i-th incoming number\n",
    "        if random.random() < p: # if our biased coin toss comes up \"heads\"\n",
    "            memory = stream[i] # replace the contents of the memory with the current data stream item\n",
    "\n",
    "    return memory # return whatever integer item remains in the memory"
   ]
  },
  {
   "cell_type": "code",
   "execution_count": 21,
   "metadata": {
    "collapsed": false
   },
   "outputs": [
    {
     "name": "stdout",
     "output_type": "stream",
     "text": [
      "number of trials: 100, average deviation from uniform distribution: 0.74\n",
      "number of trials: 500, average deviation from uniform distribution: 0.344\n",
      "number of trials: 1000, average deviation from uniform distribution: 0.25\n",
      "number of trials: 5000, average deviation from uniform distribution: 0.0876\n",
      "number of trials: 10000, average deviation from uniform distribution: 0.0782\n",
      "number of trials: 50000, average deviation from uniform distribution: 0.03524\n",
      "number of trials: 100000, average deviation from uniform distribution: 0.02494\n",
      "number of trials: 500000, average deviation from uniform distribution: 0.010828\n"
     ]
    }
   ],
   "source": [
    "import math, numpy\n",
    "\n",
    "stream = []\n",
    "for line in open('reservoir'):\n",
    "    stream.append(int(line))\n",
    "\n",
    "m_choices = [100, 500, 1000, 5000, 10000, 50000, 100000, 500000] # a list of the number of times we run the reservoirSampling procedure\n",
    "    \n",
    "for m in sorted(m_choices): # for each choice of number of trials\n",
    "    mapping = { i : 0 for i in range(1, 101)} # this will hold the results from each sampling trial\n",
    "    for i in range(m): # for the number of trials\n",
    "        mapping[reservoirSampling(stream)] += 1 # run reservoir sampling and update the integer mapping at the resultant value\n",
    "        \n",
    "    uniform_dist = { i : (m / 100) for i in range(1, 101)} # create an actual uniform distribution\n",
    "\n",
    "    abs_difference = { i : abs(mapping[i] - uniform_dist[i]) for i in range(1, 101)} # take the difference between the true uniform distribution\n",
    "                                                                                     # and the observed integer mapping\n",
    "    # print the results to the console to see the rate of convergence as a function of sampling trials\n",
    "    print 'number of trials: ' +  str(m) + ', average deviation from uniform distribution: ' + str(sum(abs_difference.values()) / float(m))"
   ]
  },
  {
   "cell_type": "markdown",
   "metadata": {},
   "source": [
    "Having run experiments for several values of m, it appears that setting m on the order of 100,000 causes the reservoir sampling to behave closely to that of a uniform sampling method. "
   ]
  },
  {
   "cell_type": "code",
   "execution_count": null,
   "metadata": {
    "collapsed": true
   },
   "outputs": [],
   "source": []
  }
 ],
 "metadata": {
  "kernelspec": {
   "display_name": "Python 2",
   "language": "python",
   "name": "python2"
  },
  "language_info": {
   "codemirror_mode": {
    "name": "ipython",
    "version": 2
   },
   "file_extension": ".py",
   "mimetype": "text/x-python",
   "name": "python",
   "nbconvert_exporter": "python",
   "pygments_lexer": "ipython2",
   "version": "2.7.9"
  }
 },
 "nbformat": 4,
 "nbformat_minor": 0
}
