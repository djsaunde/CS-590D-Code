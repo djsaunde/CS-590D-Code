{
 "cells": [
  {
   "cell_type": "code",
   "execution_count": 1,
   "metadata": {
    "collapsed": true
   },
   "outputs": [],
   "source": [
    "import random"
   ]
  },
  {
   "cell_type": "code",
   "execution_count": 46,
   "metadata": {
    "collapsed": false
   },
   "outputs": [],
   "source": [
    "def MontyHallSwitch():\n",
    "    doors = set([1,2,3])\n",
    "    car = random.sample(doors, 1)[0]\n",
    "    \n",
    "    goats = doors.difference([car])\n",
    "    \n",
    "    choice = random.sample(doors, 1)[0]\n",
    "    \n",
    "    monty = None\n",
    "    if choice == car:\n",
    "        monty = random.sample(goats, 1)[0]\n",
    "    else:\n",
    "        monty = goats.difference([choice]).pop()\n",
    "    \n",
    "    switch = doors.difference(set([choice, monty]))\n",
    "\n",
    "    if car in switch:\n",
    "        return 1\n",
    "    return 0"
   ]
  },
  {
   "cell_type": "code",
   "execution_count": 58,
   "metadata": {
    "collapsed": false
   },
   "outputs": [
    {
     "name": "stdout",
     "output_type": "stream",
     "text": [
      "0.666522\n"
     ]
    }
   ],
   "source": [
    "results = []\n",
    "for i in range(1000000):\n",
    "    results.append(MontyHallSwitch())\n",
    "    \n",
    "print sum(results) / float(len(results))"
   ]
  },
  {
   "cell_type": "code",
   "execution_count": null,
   "metadata": {
    "collapsed": true
   },
   "outputs": [],
   "source": []
  }
 ],
 "metadata": {
  "kernelspec": {
   "display_name": "Python 2",
   "language": "python",
   "name": "python2"
  },
  "language_info": {
   "codemirror_mode": {
    "name": "ipython",
    "version": 2
   },
   "file_extension": ".py",
   "mimetype": "text/x-python",
   "name": "python",
   "nbconvert_exporter": "python",
   "pygments_lexer": "ipython2",
   "version": "2.7.9"
  }
 },
 "nbformat": 4,
 "nbformat_minor": 0
}
